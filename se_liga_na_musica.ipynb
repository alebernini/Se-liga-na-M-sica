{
  "nbformat": 4,
  "nbformat_minor": 0,
  "metadata": {
    "colab": {
      "provenance": [],
      "authorship_tag": "ABX9TyMq7FzABhSV7iGcVyiQD5Uy",
      "include_colab_link": true
    },
    "kernelspec": {
      "name": "python3",
      "display_name": "Python 3"
    },
    "language_info": {
      "name": "python"
    }
  },
  "cells": [
    {
      "cell_type": "markdown",
      "metadata": {
        "id": "view-in-github",
        "colab_type": "text"
      },
      "source": [
        "<a href=\"https://colab.research.google.com/github/alebernini/Se-liga-na-musica/blob/main/se_liga_na_musica.ipynb\" target=\"_parent\"><img src=\"https://colab.research.google.com/assets/colab-badge.svg\" alt=\"Open In Colab\"/></a>"
      ]
    },
    {
      "cell_type": "code",
      "execution_count": 6,
      "metadata": {
        "id": "fxvl-MM5xcUb"
      },
      "outputs": [],
      "source": [
        "import pandas as pd"
      ]
    },
    {
      "cell_type": "code",
      "source": [
        "from google.colab import files\n",
        "uploaded = files.upload()"
      ],
      "metadata": {
        "colab": {
          "base_uri": "https://localhost:8080/",
          "height": 79
        },
        "id": "E3f0e5jhkkgr",
        "outputId": "91fc1890-6b22-45fc-a3ff-a718c31c54ba"
      },
      "execution_count": 13,
      "outputs": [
        {
          "output_type": "display_data",
          "data": {
            "text/plain": [
              "<IPython.core.display.HTML object>"
            ],
            "text/html": [
              "\n",
              "     <input type=\"file\" id=\"files-61885a40-75e2-4184-b9ca-71a0b56a55d2\" name=\"files[]\" multiple disabled\n",
              "        style=\"border:none\" />\n",
              "     <output id=\"result-61885a40-75e2-4184-b9ca-71a0b56a55d2\">\n",
              "      Upload widget is only available when the cell has been executed in the\n",
              "      current browser session. Please rerun this cell to enable.\n",
              "      </output>\n",
              "      <script>// Copyright 2017 Google LLC\n",
              "//\n",
              "// Licensed under the Apache License, Version 2.0 (the \"License\");\n",
              "// you may not use this file except in compliance with the License.\n",
              "// You may obtain a copy of the License at\n",
              "//\n",
              "//      http://www.apache.org/licenses/LICENSE-2.0\n",
              "//\n",
              "// Unless required by applicable law or agreed to in writing, software\n",
              "// distributed under the License is distributed on an \"AS IS\" BASIS,\n",
              "// WITHOUT WARRANTIES OR CONDITIONS OF ANY KIND, either express or implied.\n",
              "// See the License for the specific language governing permissions and\n",
              "// limitations under the License.\n",
              "\n",
              "/**\n",
              " * @fileoverview Helpers for google.colab Python module.\n",
              " */\n",
              "(function(scope) {\n",
              "function span(text, styleAttributes = {}) {\n",
              "  const element = document.createElement('span');\n",
              "  element.textContent = text;\n",
              "  for (const key of Object.keys(styleAttributes)) {\n",
              "    element.style[key] = styleAttributes[key];\n",
              "  }\n",
              "  return element;\n",
              "}\n",
              "\n",
              "// Max number of bytes which will be uploaded at a time.\n",
              "const MAX_PAYLOAD_SIZE = 100 * 1024;\n",
              "\n",
              "function _uploadFiles(inputId, outputId) {\n",
              "  const steps = uploadFilesStep(inputId, outputId);\n",
              "  const outputElement = document.getElementById(outputId);\n",
              "  // Cache steps on the outputElement to make it available for the next call\n",
              "  // to uploadFilesContinue from Python.\n",
              "  outputElement.steps = steps;\n",
              "\n",
              "  return _uploadFilesContinue(outputId);\n",
              "}\n",
              "\n",
              "// This is roughly an async generator (not supported in the browser yet),\n",
              "// where there are multiple asynchronous steps and the Python side is going\n",
              "// to poll for completion of each step.\n",
              "// This uses a Promise to block the python side on completion of each step,\n",
              "// then passes the result of the previous step as the input to the next step.\n",
              "function _uploadFilesContinue(outputId) {\n",
              "  const outputElement = document.getElementById(outputId);\n",
              "  const steps = outputElement.steps;\n",
              "\n",
              "  const next = steps.next(outputElement.lastPromiseValue);\n",
              "  return Promise.resolve(next.value.promise).then((value) => {\n",
              "    // Cache the last promise value to make it available to the next\n",
              "    // step of the generator.\n",
              "    outputElement.lastPromiseValue = value;\n",
              "    return next.value.response;\n",
              "  });\n",
              "}\n",
              "\n",
              "/**\n",
              " * Generator function which is called between each async step of the upload\n",
              " * process.\n",
              " * @param {string} inputId Element ID of the input file picker element.\n",
              " * @param {string} outputId Element ID of the output display.\n",
              " * @return {!Iterable<!Object>} Iterable of next steps.\n",
              " */\n",
              "function* uploadFilesStep(inputId, outputId) {\n",
              "  const inputElement = document.getElementById(inputId);\n",
              "  inputElement.disabled = false;\n",
              "\n",
              "  const outputElement = document.getElementById(outputId);\n",
              "  outputElement.innerHTML = '';\n",
              "\n",
              "  const pickedPromise = new Promise((resolve) => {\n",
              "    inputElement.addEventListener('change', (e) => {\n",
              "      resolve(e.target.files);\n",
              "    });\n",
              "  });\n",
              "\n",
              "  const cancel = document.createElement('button');\n",
              "  inputElement.parentElement.appendChild(cancel);\n",
              "  cancel.textContent = 'Cancel upload';\n",
              "  const cancelPromise = new Promise((resolve) => {\n",
              "    cancel.onclick = () => {\n",
              "      resolve(null);\n",
              "    };\n",
              "  });\n",
              "\n",
              "  // Wait for the user to pick the files.\n",
              "  const files = yield {\n",
              "    promise: Promise.race([pickedPromise, cancelPromise]),\n",
              "    response: {\n",
              "      action: 'starting',\n",
              "    }\n",
              "  };\n",
              "\n",
              "  cancel.remove();\n",
              "\n",
              "  // Disable the input element since further picks are not allowed.\n",
              "  inputElement.disabled = true;\n",
              "\n",
              "  if (!files) {\n",
              "    return {\n",
              "      response: {\n",
              "        action: 'complete',\n",
              "      }\n",
              "    };\n",
              "  }\n",
              "\n",
              "  for (const file of files) {\n",
              "    const li = document.createElement('li');\n",
              "    li.append(span(file.name, {fontWeight: 'bold'}));\n",
              "    li.append(span(\n",
              "        `(${file.type || 'n/a'}) - ${file.size} bytes, ` +\n",
              "        `last modified: ${\n",
              "            file.lastModifiedDate ? file.lastModifiedDate.toLocaleDateString() :\n",
              "                                    'n/a'} - `));\n",
              "    const percent = span('0% done');\n",
              "    li.appendChild(percent);\n",
              "\n",
              "    outputElement.appendChild(li);\n",
              "\n",
              "    const fileDataPromise = new Promise((resolve) => {\n",
              "      const reader = new FileReader();\n",
              "      reader.onload = (e) => {\n",
              "        resolve(e.target.result);\n",
              "      };\n",
              "      reader.readAsArrayBuffer(file);\n",
              "    });\n",
              "    // Wait for the data to be ready.\n",
              "    let fileData = yield {\n",
              "      promise: fileDataPromise,\n",
              "      response: {\n",
              "        action: 'continue',\n",
              "      }\n",
              "    };\n",
              "\n",
              "    // Use a chunked sending to avoid message size limits. See b/62115660.\n",
              "    let position = 0;\n",
              "    do {\n",
              "      const length = Math.min(fileData.byteLength - position, MAX_PAYLOAD_SIZE);\n",
              "      const chunk = new Uint8Array(fileData, position, length);\n",
              "      position += length;\n",
              "\n",
              "      const base64 = btoa(String.fromCharCode.apply(null, chunk));\n",
              "      yield {\n",
              "        response: {\n",
              "          action: 'append',\n",
              "          file: file.name,\n",
              "          data: base64,\n",
              "        },\n",
              "      };\n",
              "\n",
              "      let percentDone = fileData.byteLength === 0 ?\n",
              "          100 :\n",
              "          Math.round((position / fileData.byteLength) * 100);\n",
              "      percent.textContent = `${percentDone}% done`;\n",
              "\n",
              "    } while (position < fileData.byteLength);\n",
              "  }\n",
              "\n",
              "  // All done.\n",
              "  yield {\n",
              "    response: {\n",
              "      action: 'complete',\n",
              "    }\n",
              "  };\n",
              "}\n",
              "\n",
              "scope.google = scope.google || {};\n",
              "scope.google.colab = scope.google.colab || {};\n",
              "scope.google.colab._files = {\n",
              "  _uploadFiles,\n",
              "  _uploadFilesContinue,\n",
              "};\n",
              "})(self);\n",
              "</script> "
            ]
          },
          "metadata": {}
        },
        {
          "output_type": "stream",
          "name": "stdout",
          "text": [
            "Saving music_project_en.csv to music_project_en.csv\n"
          ]
        }
      ]
    },
    {
      "cell_type": "code",
      "source": [
        "df = pd.read_csv('music_project_en.csv')"
      ],
      "metadata": {
        "id": "XgqJUVVLj7HL"
      },
      "execution_count": 15,
      "outputs": []
    },
    {
      "cell_type": "code",
      "source": [
        "print(df.head(10))"
      ],
      "metadata": {
        "colab": {
          "base_uri": "https://localhost:8080/"
        },
        "id": "tqn5zL_y1Jhb",
        "outputId": "e3fad7b7-29b5-4c2d-d7cf-2d7c2d24bcf7"
      },
      "execution_count": 16,
      "outputs": [
        {
          "output_type": "stream",
          "name": "stdout",
          "text": [
            "     userID                        Track            artist   genre  \\\n",
            "0  FFB692EC            Kamigata To Boots  The Mass Missile    rock   \n",
            "1  55204538  Delayed Because of Accident  Andreas Rönnberg    rock   \n",
            "2    20EC38            Funiculì funiculà       Mario Lanza     pop   \n",
            "3  A3DD03C9        Dragons in the Sunset        Fire + Ice    folk   \n",
            "4  E2DC1FAE                  Soul People        Space Echo   dance   \n",
            "5  842029A1                       Chains          Obladaet  rusrap   \n",
            "6  4CB90AA5                         True      Roman Messer   dance   \n",
            "7  F03E1C1F             Feeling This Way   Polina Griffith   dance   \n",
            "8  8FA1D3BE                     L’estate       Julia Dalia  ruspop   \n",
            "9  E772D5C0                    Pessimist               NaN   dance   \n",
            "\n",
            "        City        time        Day;;  \n",
            "0  Shelbyville  20:28:33  Wednesday;;  \n",
            "1  Springfield  14:07:09     Friday;;  \n",
            "2  Shelbyville  20:58:07  Wednesday;;  \n",
            "3  Shelbyville  08:37:09     Monday;;  \n",
            "4  Springfield  08:34:34     Monday;;  \n",
            "5  Shelbyville  13:09:41     Friday;;  \n",
            "6  Springfield  13:00:07  Wednesday;;  \n",
            "7  Springfield  20:47:49  Wednesday;;  \n",
            "8  Springfield  09:17:40     Friday;;  \n",
            "9  Shelbyville  21:20:49  Wednesday;;  \n"
          ]
        }
      ]
    },
    {
      "cell_type": "code",
      "source": [
        "df.info()"
      ],
      "metadata": {
        "colab": {
          "base_uri": "https://localhost:8080/"
        },
        "id": "fTaKOljJ1Su9",
        "outputId": "b37e1bc8-7c78-4493-e697-292e295f9dd1"
      },
      "execution_count": 17,
      "outputs": [
        {
          "output_type": "stream",
          "name": "stdout",
          "text": [
            "<class 'pandas.core.frame.DataFrame'>\n",
            "RangeIndex: 65079 entries, 0 to 65078\n",
            "Data columns (total 7 columns):\n",
            " #   Column    Non-Null Count  Dtype \n",
            "---  ------    --------------  ----- \n",
            " 0     userID  65079 non-null  object\n",
            " 1   Track     63188 non-null  object\n",
            " 2   artist    57004 non-null  object\n",
            " 3   genre     63335 non-null  object\n",
            " 4     City    64531 non-null  object\n",
            " 5   time      64531 non-null  object\n",
            " 6   Day;;     64529 non-null  object\n",
            "dtypes: object(7)\n",
            "memory usage: 3.5+ MB\n"
          ]
        }
      ]
    },
    {
      "cell_type": "code",
      "source": [
        "print(df.dtypes)"
      ],
      "metadata": {
        "colab": {
          "base_uri": "https://localhost:8080/"
        },
        "id": "XJQSvdLp1Umr",
        "outputId": "836acba3-88dc-486e-a682-0ff8c89a5611"
      },
      "execution_count": 18,
      "outputs": [
        {
          "output_type": "stream",
          "name": "stdout",
          "text": [
            "  userID    object\n",
            "Track       object\n",
            "artist      object\n",
            "genre       object\n",
            "  City      object\n",
            "time        object\n",
            "Day;;       object\n",
            "dtype: object\n"
          ]
        }
      ]
    },
    {
      "cell_type": "code",
      "source": [
        "  columns_new = {\n",
        "\n",
        "    \"Track\" : \"track\",\n",
        "    \"  City  \" : \"city\",\n",
        "    \"Day\" : \"day\"\n",
        "\n",
        "    }\n",
        "\n",
        "df.rename(columns = columns_new, inplace = True)\n",
        "\n",
        "print(df.columns)"
      ],
      "metadata": {
        "colab": {
          "base_uri": "https://localhost:8080/"
        },
        "id": "KZHIGI3U1etx",
        "outputId": "a3153971-0d40-44db-a416-c4f22bf056f6"
      },
      "execution_count": 19,
      "outputs": [
        {
          "output_type": "stream",
          "name": "stdout",
          "text": [
            "Index(['  userID', 'track', 'artist', 'genre', 'city', 'time', 'Day;;'], dtype='object')\n"
          ]
        }
      ]
    },
    {
      "cell_type": "code",
      "source": [
        "columns_new = {\n",
        "\n",
        "     \"  userID\" : \"userID\",\n",
        "     \"Track\" : \"track\",\n",
        "     \"artist\" : \"artist\",\n",
        "     \"genre\" : \"genre\",\n",
        "     \"  City  \" : \"city\",\n",
        "     \"time\" : \"time\",\n",
        "     \"Day\" : \"day\"\n",
        "\n",
        "\n",
        "    }\n",
        "\n",
        "df.rename(columns = columns_new, inplace = True)\n",
        "\n",
        "print(df.columns)"
      ],
      "metadata": {
        "colab": {
          "base_uri": "https://localhost:8080/"
        },
        "id": "6oMJSiOX1qmF",
        "outputId": "2483271e-f295-4c9f-a7ea-742f8fc06060"
      },
      "execution_count": 20,
      "outputs": [
        {
          "output_type": "stream",
          "name": "stdout",
          "text": [
            "Index(['userID', 'track', 'artist', 'genre', 'city', 'time', 'Day;;'], dtype='object')\n"
          ]
        }
      ]
    },
    {
      "cell_type": "code",
      "source": [
        "columns_new = {\n",
        "\n",
        "     \"  userID\" : \"user_id\",\n",
        "     \"Track\" : \"track\",\n",
        "     \"artist\" : \"artist\",\n",
        "     \"genre\" : \"genre\",\n",
        "     \"  City  \" : \"city\",\n",
        "     \"time\" : \"time\",\n",
        "     \"Day\" : \"day\"\n",
        "\n",
        "\n",
        "    }\n",
        "\n",
        "df_new = df.rename(columns = columns_new, inplace = True)\n",
        "\n",
        "print(df.columns)"
      ],
      "metadata": {
        "colab": {
          "base_uri": "https://localhost:8080/"
        },
        "id": "iBOqSWtt1zlJ",
        "outputId": "624063c3-8c20-4f36-bae0-8814b1a6c149"
      },
      "execution_count": 21,
      "outputs": [
        {
          "output_type": "stream",
          "name": "stdout",
          "text": [
            "Index(['userID', 'track', 'artist', 'genre', 'city', 'time', 'Day;;'], dtype='object')\n"
          ]
        }
      ]
    },
    {
      "cell_type": "code",
      "source": [
        "print(df.dtypes)"
      ],
      "metadata": {
        "colab": {
          "base_uri": "https://localhost:8080/"
        },
        "id": "XiwXEBAI2MgQ",
        "outputId": "7fe2dba5-4e47-43ae-f69b-963b46702062"
      },
      "execution_count": 22,
      "outputs": [
        {
          "output_type": "stream",
          "name": "stdout",
          "text": [
            "userID    object\n",
            "track     object\n",
            "artist    object\n",
            "genre     object\n",
            "city      object\n",
            "time      object\n",
            "Day;;     object\n",
            "dtype: object\n"
          ]
        }
      ]
    },
    {
      "cell_type": "code",
      "source": [
        "print(df.isna().sum())"
      ],
      "metadata": {
        "colab": {
          "base_uri": "https://localhost:8080/"
        },
        "id": "D6r6h6Ak3fOS",
        "outputId": "a9c31824-425d-4702-8bda-9074f3485353"
      },
      "execution_count": 23,
      "outputs": [
        {
          "output_type": "stream",
          "name": "stdout",
          "text": [
            "userID       0\n",
            "track     1891\n",
            "artist    8075\n",
            "genre     1744\n",
            "city       548\n",
            "time       548\n",
            "Day;;      550\n",
            "dtype: int64\n"
          ]
        }
      ]
    },
    {
      "cell_type": "code",
      "source": [
        "print(df.isna().sum())"
      ],
      "metadata": {
        "colab": {
          "base_uri": "https://localhost:8080/"
        },
        "id": "4XpwwDDw5wiO",
        "outputId": "2cf460b2-8d2e-4d87-9ada-fcea47ce8e93"
      },
      "execution_count": 26,
      "outputs": [
        {
          "output_type": "stream",
          "name": "stdout",
          "text": [
            "userID      0\n",
            "track       0\n",
            "artist      0\n",
            "genre       0\n",
            "city      548\n",
            "time      548\n",
            "Day;;     550\n",
            "dtype: int64\n"
          ]
        }
      ]
    },
    {
      "cell_type": "code",
      "source": [
        "print(df.duplicated().sum())"
      ],
      "metadata": {
        "colab": {
          "base_uri": "https://localhost:8080/"
        },
        "id": "rMQ-rfke51F_",
        "outputId": "42426a8b-3530-4fdc-80c9-011adddbdb4d"
      },
      "execution_count": 27,
      "outputs": [
        {
          "output_type": "stream",
          "name": "stdout",
          "text": [
            "3826\n"
          ]
        }
      ]
    },
    {
      "cell_type": "code",
      "source": [
        "df.drop_duplicates(inplace=True)\n",
        "\n",
        "print(df.duplicated().sum())"
      ],
      "metadata": {
        "colab": {
          "base_uri": "https://localhost:8080/"
        },
        "id": "QQryfKFQ58u2",
        "outputId": "53c64fec-66e4-41fe-d26e-0e17cfa84984"
      },
      "execution_count": 28,
      "outputs": [
        {
          "output_type": "stream",
          "name": "stdout",
          "text": [
            "0\n"
          ]
        }
      ]
    },
    {
      "cell_type": "code",
      "source": [
        "print(df.duplicated().sum())"
      ],
      "metadata": {
        "colab": {
          "base_uri": "https://localhost:8080/"
        },
        "id": "oHXJspRB5-HW",
        "outputId": "141b7a1b-921b-4c26-a934-b3a9efa1aa4c"
      },
      "execution_count": 29,
      "outputs": [
        {
          "output_type": "stream",
          "name": "stdout",
          "text": [
            "0\n"
          ]
        }
      ]
    },
    {
      "cell_type": "code",
      "source": [
        "print(df['genre'].unique())"
      ],
      "metadata": {
        "colab": {
          "base_uri": "https://localhost:8080/"
        },
        "id": "59hIaibE6L8u",
        "outputId": "3f62dae3-70c8-4d1c-ce32-7793b87da320"
      },
      "execution_count": 30,
      "outputs": [
        {
          "output_type": "stream",
          "name": "stdout",
          "text": [
            "['rock' 'pop' 'folk' 'dance' 'rusrap' 'ruspop' 'world' 'electronic'\n",
            " 'unknown' 'alternative' 'children' 'rnb' 'hip' 'jazz' 'postrock' 'latin'\n",
            " 'metal' 'reggae' 'triphop' 'blues' 'instrumental' 'rusrock' 'dnb' 'türk'\n",
            " 'post' 'country' 'psychedelic' 'conjazz' 'indie' 'posthardcore' 'local'\n",
            " 'avantgarde' 'classical' 'punk' 'videogame' 'techno' 'house' 'christmas'\n",
            " 'melodic' 'caucasian' 'reggaeton' 'soundtrack' 'singer' 'ska' 'salsa'\n",
            " 'ambient' 'film' 'western' 'rap' 'beats' \"hard'n'heavy\" 'progmetal'\n",
            " 'minimal' 'tropical' 'contemporary' 'new' 'soul' 'holiday' 'german'\n",
            " 'jpop' 'spiritual' 'urban' 'gospel' 'nujazz' 'folkmetal' 'trance'\n",
            " 'miscellaneous' 'anime' 'hardcore' 'progressive' 'korean' 'numetal'\n",
            " 'vocal' 'estrada' 'tango' 'loungeelectronic' 'classicmetal' 'dubstep'\n",
            " 'club' 'deep' 'southern' 'black' 'folkrock' 'fitness' 'french' 'disco'\n",
            " 'religious' 'hiphop' 'drum' 'extrememetal' 'türkçe' 'experimental' 'easy'\n",
            " 'metalcore' 'modern' 'argentinetango' 'old' 'swing' 'breaks' 'eurofolk'\n",
            " 'stonerrock' 'industrial' 'funk' 'middle' 'variété' 'other' 'adult'\n",
            " 'christian' 'thrash' 'gothic' 'international' 'muslim' 'relax' 'schlager'\n",
            " 'caribbean' 'nu' 'breakbeat' 'comedy' 'chill' 'newage' 'specialty'\n",
            " 'uzbek' 'k-pop' 'balkan' 'chinese' 'meditative' 'dub' 'power' 'death'\n",
            " 'grime' 'arabesk' 'romance' 'flamenco' 'leftfield' 'european' 'tech'\n",
            " 'newwave' 'dancehall' 'mpb' 'piano' 'top' 'bigroom' 'opera' 'celtic'\n",
            " 'tradjazz' 'acoustic' 'epicmetal' 'hip-hop' 'historisch' 'downbeat'\n",
            " 'downtempo' 'africa' 'audiobook' 'jewish' 'deutschrock' 'eastern'\n",
            " 'action' 'future' 'electropop' 'folklore' 'bollywood' 'marschmusik' 'rnr'\n",
            " 'karaoke' 'indian' 'rancheras' 'afrikaans' 'rhythm' 'sound' 'deutschspr'\n",
            " 'trip' 'lovers' 'choral' 'dancepop' 'retro' 'smooth' 'mexican'\n",
            " 'brazilian' 'ïîï' 'mood' 'surf' 'gangsta' 'inspirational' 'idm' 'ethnic'\n",
            " 'bluegrass' 'broadway' 'animated' 'americana' 'karadeniz' 'rockabilly'\n",
            " 'colombian' 'self' 'hop' 'sertanejo' 'japanese' 'canzone' 'lounge'\n",
            " 'sport' 'ragga' 'traditional' 'frankreich' 'emo' 'laiko' 'cantopop'\n",
            " 'glitch' 'documentary' 'Springfield' 'oceania' 'popeurodance' 'dark' 'vi'\n",
            " 'grunge' 'hardstyle' 'samba' 'garage' 'art' 'folktronica' 'entehno'\n",
            " 'mediterranean' 'chamber' 'cuban' 'taraftar' 'gypsy' 'hardtechno'\n",
            " 'shoegazing' 'bossa' 'latino' 'worldbeat' 'malaysian' 'baile' 'ghazal'\n",
            " 'arabic' 'popelectronic' 'acid' 'kayokyoku' 'neoklassik' 'tribal'\n",
            " 'tanzorchester' 'native' 'independent' 'cantautori' 'handsup' 'punjabi'\n",
            " 'synthpop' 'rave' 'französisch' 'quebecois' 'speech' 'soulful' 'jam'\n",
            " 'ram' 'horror' 'orchestral' 'neue' 'roots' 'slow' 'jungle' 'indipop'\n",
            " 'axé' 'fado' 'showtunes' 'arena' 'irish' 'mandopop' 'forró' 'dirty'\n",
            " 'regional']\n"
          ]
        }
      ]
    },
    {
      "cell_type": "code",
      "source": [
        "music_by_city = df.groupby(\"city\").sum()\n",
        "\n",
        "print(music_by_city)"
      ],
      "metadata": {
        "colab": {
          "base_uri": "https://localhost:8080/"
        },
        "id": "IRYIMD1h9_WE",
        "outputId": "f336fc42-9cce-4f5c-f99c-dbf2a3d579d0"
      },
      "execution_count": 31,
      "outputs": [
        {
          "output_type": "stream",
          "name": "stdout",
          "text": [
            "                                                        userID  \\\n",
            "city                                                             \n",
            "08:40:52         84BFA612,Kedvesem\\t(Hungary; Zoohacker Remix)   \n",
            "09:28:57     6A6399BF,\"Wagner: Die Walküre WWV 86B / Act 2 ...   \n",
            "Shelbyville  FFB692EC20EC38A3DD03C9842029A1E772D5C094EB25C2...   \n",
            "Springfield  55204538E2DC1FAE4CB90AA5F03E1C1F8FA1D3BEBC5A3A...   \n",
            "\n",
            "                                                         track  \\\n",
            "city                                                             \n",
            "08:40:52                                               ByeAlex   \n",
            "09:28:57                                           Jon Vickers   \n",
            "Shelbyville  Kamigata To BootsFuniculì funiculàDragons in t...   \n",
            "Springfield  Delayed Because of AccidentSoul PeopleTrueFeel...   \n",
            "\n",
            "                                                        artist  \\\n",
            "city                                                             \n",
            "08:40:52                                                   pop   \n",
            "09:28:57                                             classical   \n",
            "Shelbyville  The Mass MissileMario LanzaFire + IceObladaetu...   \n",
            "Springfield  Andreas RönnbergSpace EchoRoman MesserPolina G...   \n",
            "\n",
            "                                                         genre  \\\n",
            "city                                                             \n",
            "08:40:52                                           Springfield   \n",
            "09:28:57                                           Springfield   \n",
            "Shelbyville  rockpopfolkrusrapdancepopalternativefolkchildr...   \n",
            "Springfield  rockdancedancedanceruspopworldelectronicpopdan...   \n",
            "\n",
            "                                                          time  \\\n",
            "city                                                             \n",
            "08:40:52                                               Monday;   \n",
            "09:28:57                                              Friday\";   \n",
            "Shelbyville  20:28:3320:58:0708:37:0913:09:4121:20:4913:22:...   \n",
            "Springfield  14:07:0908:34:3413:00:0720:47:4909:17:4014:08:...   \n",
            "\n",
            "                                                         Day;;  \n",
            "city                                                            \n",
            "08:40:52                                                     0  \n",
            "09:28:57                                                     0  \n",
            "Shelbyville  Wednesday;;Wednesday;;Monday;;Friday;;Wednesda...  \n",
            "Springfield  Friday;;Monday;;Wednesday;;Wednesday;;Friday;;...  \n"
          ]
        }
      ]
    },
    {
      "cell_type": "code",
      "source": [
        "# Declare a função number_tracks() com dois parâmetros: day= e city=.\n",
        "\n",
        "    # Armazene as linhas do DataFrame em que o valor na coluna 'day' é igual ao parâmetro day=\n",
        "\n",
        "    # Filtre as linhas em que o valor na coluna 'city' é igual ao parâmetro city=\n",
        "\n",
        "    # Extraia a coluna 'user_id' da tabela filtrada e aplique o método count()\n",
        "\n",
        "    # Retorne o número dos valores da coluna 'user_id'\n",
        "\n",
        "\n",
        "def number_tracks(df, day=None, city=None):\n",
        "    if day is not None:\n",
        "        df = df[df['day'] == day]\n",
        "    if city is not None:\n",
        "        df = df[df['city'] == city]\n",
        "    return df['user_id'].count()\n",
        "\n",
        "    user_count = df['user_id'].count()\n",
        "\n",
        "    return user_count\n",
        "\n",
        "print (number_tracks)"
      ],
      "metadata": {
        "colab": {
          "base_uri": "https://localhost:8080/"
        },
        "id": "Ew-WtQ1r-PcF",
        "outputId": "25b74b0b-c0c0-4de4-b5d4-304eb2942b0f"
      },
      "execution_count": 34,
      "outputs": [
        {
          "output_type": "stream",
          "name": "stdout",
          "text": [
            "<function number_tracks at 0x7c3f6a2f7560>\n"
          ]
        }
      ]
    },
    {
      "cell_type": "code",
      "source": [
        "df = pd.read_csv('music_project_en.csv')\n",
        "\n",
        "print(df.head(10))\n",
        "\n",
        "df.info()"
      ],
      "metadata": {
        "colab": {
          "base_uri": "https://localhost:8080/"
        },
        "id": "RuCjQK_t_hbn",
        "outputId": "4bf7219e-8de9-4ed7-9c51-17a2ab6354a5"
      },
      "execution_count": 33,
      "outputs": [
        {
          "output_type": "stream",
          "name": "stdout",
          "text": [
            "     userID                        Track            artist   genre  \\\n",
            "0  FFB692EC            Kamigata To Boots  The Mass Missile    rock   \n",
            "1  55204538  Delayed Because of Accident  Andreas Rönnberg    rock   \n",
            "2    20EC38            Funiculì funiculà       Mario Lanza     pop   \n",
            "3  A3DD03C9        Dragons in the Sunset        Fire + Ice    folk   \n",
            "4  E2DC1FAE                  Soul People        Space Echo   dance   \n",
            "5  842029A1                       Chains          Obladaet  rusrap   \n",
            "6  4CB90AA5                         True      Roman Messer   dance   \n",
            "7  F03E1C1F             Feeling This Way   Polina Griffith   dance   \n",
            "8  8FA1D3BE                     L’estate       Julia Dalia  ruspop   \n",
            "9  E772D5C0                    Pessimist               NaN   dance   \n",
            "\n",
            "        City        time        Day;;  \n",
            "0  Shelbyville  20:28:33  Wednesday;;  \n",
            "1  Springfield  14:07:09     Friday;;  \n",
            "2  Shelbyville  20:58:07  Wednesday;;  \n",
            "3  Shelbyville  08:37:09     Monday;;  \n",
            "4  Springfield  08:34:34     Monday;;  \n",
            "5  Shelbyville  13:09:41     Friday;;  \n",
            "6  Springfield  13:00:07  Wednesday;;  \n",
            "7  Springfield  20:47:49  Wednesday;;  \n",
            "8  Springfield  09:17:40     Friday;;  \n",
            "9  Shelbyville  21:20:49  Wednesday;;  \n",
            "<class 'pandas.core.frame.DataFrame'>\n",
            "RangeIndex: 65079 entries, 0 to 65078\n",
            "Data columns (total 7 columns):\n",
            " #   Column    Non-Null Count  Dtype \n",
            "---  ------    --------------  ----- \n",
            " 0     userID  65079 non-null  object\n",
            " 1   Track     63188 non-null  object\n",
            " 2   artist    57004 non-null  object\n",
            " 3   genre     63335 non-null  object\n",
            " 4     City    64531 non-null  object\n",
            " 5   time      64531 non-null  object\n",
            " 6   Day;;     64529 non-null  object\n",
            "dtypes: object(7)\n",
            "memory usage: 3.5+ MB\n"
          ]
        }
      ]
    },
    {
      "cell_type": "code",
      "source": [
        "def number_tracks(df, day=None, city=None):\n",
        "    if day is not None:\n",
        "        df = df[df['day'] == day]\n",
        "    if city is not None:\n",
        "        df = df[df['city'] == city]\n",
        "    return df['user_id'].count()\n",
        "\n",
        "    user_count = df['user_id'].count()\n",
        "\n",
        "    return user_count\n",
        "\n",
        "print (number_tracks)"
      ],
      "metadata": {
        "colab": {
          "base_uri": "https://localhost:8080/"
        },
        "id": "yBXL7kv0_uE2",
        "outputId": "72df4f4a-1461-4203-e5e2-72efd084b1c7"
      },
      "execution_count": 35,
      "outputs": [
        {
          "output_type": "stream",
          "name": "stdout",
          "text": [
            "<function number_tracks at 0x7c3f6a2f71a0>\n"
          ]
        }
      ]
    }
  ]
}